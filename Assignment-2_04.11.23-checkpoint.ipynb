{
 "cells": [
  {
   "cell_type": "code",
   "execution_count": 5,
   "id": "6c903898",
   "metadata": {},
   "outputs": [
    {
     "name": "stdout",
     "output_type": "stream",
     "text": [
      "Python:Exercises::PHP:exercises:\n"
     ]
    }
   ],
   "source": [
    "import re\n",
    "Text = 'Python Exercises, PHP exercises.'\n",
    "print(re.sub(\"[ ,.]\",\":\",Text))\n"
   ]
  },
  {
   "cell_type": "code",
   "execution_count": 11,
   "id": "bcd67256",
   "metadata": {},
   "outputs": [
    {
     "name": "stdout",
     "output_type": "stream",
     "text": [
      "         SUMMARY\n",
      "0    hello world\n",
      "1     XXXXX test\n",
      "2  four five six\n"
     ]
    }
   ],
   "source": [
    "import pandas as pd\n",
    "sample = {'SUMMARY': ['hello, world!', 'XXXXX test', '123four, five:; six...']}\n",
    "df = pd.DataFrame(sample)\n",
    "df['SUMMARY'] = df['SUMMARY'].str.replace('[^a-zA-Z\\s]','', regex=True)\n",
    "print (df)"
   ]
  },
  {
   "cell_type": "code",
   "execution_count": 12,
   "id": "822aa831",
   "metadata": {},
   "outputs": [
    {
     "name": "stdout",
     "output_type": "stream",
     "text": [
      "['good', 'thing', 'they', 'were', 'going', 'home', 'tomorrow', 'this', 'weekend']\n"
     ]
    }
   ],
   "source": [
    "import re\n",
    "text = 'It was good thing they were going home tomorrow for this weekend.'\n",
    "print(re.findall(r\"\\b\\w{4,}\\b\",text))"
   ]
  },
  {
   "cell_type": "code",
   "execution_count": 23,
   "id": "f769bf83",
   "metadata": {
    "scrolled": true
   },
   "outputs": [],
   "source": [
    "import re\n",
    "def find_words(string):\n",
    "    pattern = re.compile(r'\\b\\w{3,5}\\b')\n",
    "    matches = pattern.findall(string)\n",
    "    return matches"
   ]
  },
  {
   "cell_type": "code",
   "execution_count": 26,
   "id": "d240a47b",
   "metadata": {},
   "outputs": [
    {
     "name": "stdout",
     "output_type": "stream",
     "text": [
      "['was', 'good', 'thing', 'they', 'were', 'going', 'home', 'for', 'this']\n"
     ]
    }
   ],
   "source": [
    "string = \"It was good thing they were going home tomorrow for this weekend.\"\n",
    "result = find_words(string)\n",
    "print(result)"
   ]
  },
  {
   "cell_type": "code",
   "execution_count": 27,
   "id": "92ec2412",
   "metadata": {},
   "outputs": [],
   "source": [
    "import re\n",
    "def remove_parentheses (strings):\n",
    "    pattern = re.compile(r\"\\(\\)\")\n",
    "    modified_strings = []\n",
    "    for string in strings:\n",
    "        modified_string = re.sub(pattern, \"\", string)\n",
    "        modified_strings.append(modified_string)\n",
    "        return modified_strings"
   ]
  },
  {
   "cell_type": "code",
   "execution_count": 30,
   "id": "4169e6f7",
   "metadata": {},
   "outputs": [
    {
     "name": "stdout",
     "output_type": "stream",
     "text": [
      "['example (.com)']\n"
     ]
    }
   ],
   "source": [
    "sample_text = [\"example (.com)\", \"hr@fliprobo (.com)\", \"github (.com)\", \"Hello (Data Science World)\", \"Data (Scientist)\"]\n",
    "result = remove_parentheses(sample_text)\n",
    "print(result)"
   ]
  },
  {
   "cell_type": "code",
   "execution_count": 3,
   "id": "24f711e0",
   "metadata": {},
   "outputs": [
    {
     "ename": "NameError",
     "evalue": "name 'filename' is not defined",
     "output_type": "error",
     "traceback": [
      "\u001b[1;31m---------------------------------------------------------------------------\u001b[0m",
      "\u001b[1;31mNameError\u001b[0m                                 Traceback (most recent call last)",
      "Cell \u001b[1;32mIn[3], line 2\u001b[0m\n\u001b[0;32m      1\u001b[0m \u001b[38;5;28;01mimport\u001b[39;00m \u001b[38;5;21;01mre\u001b[39;00m\n\u001b[1;32m----> 2\u001b[0m filename\u001b[38;5;241m.\u001b[39mtxt(file)\n\u001b[0;32m      3\u001b[0m text \u001b[38;5;241m=\u001b[39m file\u001b[38;5;241m.\u001b[39mread()\n\u001b[0;32m      4\u001b[0m modified_text \u001b[38;5;241m=\u001b[39m re\u001b[38;5;241m.\u001b[39msub(\u001b[38;5;124mr\u001b[39m\u001b[38;5;124m'\u001b[39m\u001b[38;5;124m\\\u001b[39m\u001b[38;5;124m([^()]*\u001b[39m\u001b[38;5;124m\\\u001b[39m\u001b[38;5;124m)\u001b[39m\u001b[38;5;124m'\u001b[39m,\u001b[38;5;124m'\u001b[39m\u001b[38;5;124m'\u001b[39m, text)\n",
      "\u001b[1;31mNameError\u001b[0m: name 'filename' is not defined"
     ]
    }
   ],
   "source": [
    "import re\n",
    "filename.txt(file)\n",
    "text = file.read()\n",
    "modified_text = re.sub(r'\\([^()]*\\)','', text)\n",
    "file.write(modified_text)"
   ]
  },
  {
   "cell_type": "code",
   "execution_count": 4,
   "id": "bcd49116",
   "metadata": {},
   "outputs": [],
   "source": [
    "def instert_spaces(text):\n",
    "    pattern = r'(\\d+)([A-Za-z]+)'\n",
    "    result = re.sub(pattern, r'\\1\\2', text)\n",
    "    return result"
   ]
  },
  {
   "cell_type": "code",
   "execution_count": null,
   "id": "2f4ec4ad",
   "metadata": {},
   "outputs": [],
   "source": []
  }
 ],
 "metadata": {
  "kernelspec": {
   "display_name": "Python 3 (ipykernel)",
   "language": "python",
   "name": "python3"
  },
  "language_info": {
   "codemirror_mode": {
    "name": "ipython",
    "version": 3
   },
   "file_extension": ".py",
   "mimetype": "text/x-python",
   "name": "python",
   "nbconvert_exporter": "python",
   "pygments_lexer": "ipython3",
   "version": "3.11.5"
  }
 },
 "nbformat": 4,
 "nbformat_minor": 5
}
